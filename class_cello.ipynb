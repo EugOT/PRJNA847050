version https://git-lfs.github.com/spec/v1
oid sha256:7589b2c49fd767163f4d5a71fc27fc0937a781692abb5080a47e64215fe80504
size 111153
