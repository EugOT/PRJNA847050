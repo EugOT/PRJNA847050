version https://git-lfs.github.com/spec/v1
oid sha256:418a0fb39d696544da1657dc1382d94aaed3d272e260d04c838e89631a0c1ad3
size 130586
