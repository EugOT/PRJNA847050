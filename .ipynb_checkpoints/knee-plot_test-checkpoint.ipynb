version https://git-lfs.github.com/spec/v1
oid sha256:0ea45103ccfbea56a102d0bee3b2d3a68acc5e4635649e64ee5ab627b87e859e
size 130772
