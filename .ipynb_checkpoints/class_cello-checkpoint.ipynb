version https://git-lfs.github.com/spec/v1
oid sha256:731d94ba0c7b8510f977292b76d10a593cd5bdaa9276439448e7bd5a890a0b14
size 17964
